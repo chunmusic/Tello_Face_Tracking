{
 "cells": [
  {
   "cell_type": "code",
   "execution_count": 46,
   "metadata": {},
   "outputs": [],
   "source": [
    "import time\n",
    "import matplotlib.pyplot as plt\n",
    "import numpy as np\n",
    "from scipy.interpolate import BSpline, interp1d\n",
    "%matplotlib inline"
   ]
  },
  {
   "cell_type": "code",
   "execution_count": null,
   "metadata": {},
   "outputs": [],
   "source": []
  },
  {
   "cell_type": "code",
   "execution_count": 142,
   "metadata": {},
   "outputs": [],
   "source": [
    "class PID:\n",
    "\n",
    "    def __init__(self, P=1.0, I=0.8, D=0.001, current_time=None):\n",
    "\n",
    "        self.Kp = P\n",
    "        self.Ki = I\n",
    "        self.Kd = D\n",
    "\n",
    "        self.sample_time = 0.00\n",
    "        self.current_time = current_time if current_time is not None else time.time()\n",
    "        self.last_time = self.current_time\n",
    "\n",
    "        self.clear()\n",
    "\n",
    "    def clear(self):\n",
    "        \n",
    "        self.SetPoint = 0.0\n",
    "\n",
    "        self.PTerm = 0.0\n",
    "        self.ITerm = 0.0\n",
    "        self.DTerm = 0.0\n",
    "        self.last_error = 0.0\n",
    "\n",
    "        # Windup Guard\n",
    "        self.int_error = 0.0\n",
    "        self.windup_guard = 20.0\n",
    "\n",
    "        self.output = 0.0\n",
    "\n",
    "    def update(self, feedback_value, current_time=None):\n",
    "\n",
    "        error = self.SetPoint - feedback_value\n",
    "\n",
    "        self.current_time = current_time if current_time is not None else time.time()\n",
    "        delta_time = self.current_time - self.last_time\n",
    "        delta_error = error - self.last_error\n",
    "\n",
    "        if (delta_time >= self.sample_time):\n",
    "            self.PTerm = self.Kp * error\n",
    "            self.ITerm += error * delta_time\n",
    "\n",
    "            if (self.ITerm < -self.windup_guard):\n",
    "                self.ITerm = -self.windup_guard\n",
    "            elif (self.ITerm > self.windup_guard):\n",
    "                self.ITerm = self.windup_guard\n",
    "\n",
    "            self.DTerm = 0.0\n",
    "            if delta_time > 0:\n",
    "                self.DTerm = delta_error / delta_time\n",
    "\n",
    "            # Remember last time and last error for next calculation\n",
    "            self.last_time = self.current_time\n",
    "            self.last_error = error\n",
    "\n",
    "            self.output = self.PTerm + (self.Ki * self.ITerm) + (self.Kd * self.DTerm)\n",
    "\n",
    "    def setKp(self, proportional_gain):\n",
    "        self.Kp = proportional_gain\n",
    "\n",
    "    def setKi(self, integral_gain):\n",
    "        self.Ki = integral_gain\n",
    "\n",
    "    def setKd(self, derivative_gain):\n",
    "        self.Kd = derivative_gain\n",
    "\n",
    "    def setWindup(self, windup):\n",
    "        self.windup_guard = windup\n",
    "\n",
    "    def setSampleTime(self, sample_time):\n",
    "        self.sample_time = sample_time"
   ]
  },
  {
   "cell_type": "code",
   "execution_count": 143,
   "metadata": {},
   "outputs": [],
   "source": [
    "pid = PID()"
   ]
  },
  {
   "cell_type": "code",
   "execution_count": 144,
   "metadata": {},
   "outputs": [
    {
     "name": "stdout",
     "output_type": "stream",
     "text": [
      "1.0\n"
     ]
    }
   ],
   "source": [
    "print(pid.Kp)"
   ]
  },
  {
   "cell_type": "code",
   "execution_count": 145,
   "metadata": {},
   "outputs": [],
   "source": [
    "L =50"
   ]
  },
  {
   "cell_type": "code",
   "execution_count": 146,
   "metadata": {},
   "outputs": [],
   "source": [
    "pid.SetPoint=0.0\n",
    "pid.setSampleTime(0.01)\n",
    "\n",
    "END = L\n",
    "feedback = 0\n",
    "\n",
    "feedback_list = []\n",
    "time_list = []\n",
    "setpoint_list = []\n",
    "\n",
    "for i in range(1, END):\n",
    "    pid.update(feedback)\n",
    "    output = pid.output\n",
    "    if pid.SetPoint > 0:\n",
    "        feedback += (output - (1/i))\n",
    "    if i>9:\n",
    "        pid.SetPoint = 1\n",
    "    time.sleep(0.02)\n",
    "\n",
    "    feedback_list.append(feedback)\n",
    "    setpoint_list.append(pid.SetPoint)\n",
    "    time_list.append(i)\n",
    "\n",
    "time_sm = np.array(time_list)\n",
    "time_smooth = np.linspace(time_sm.min(), time_sm.max(), 300)\n",
    "feedback_smooth = interp1d(time_list, feedback_list)(time_smooth)\n"
   ]
  },
  {
   "cell_type": "code",
   "execution_count": 147,
   "metadata": {},
   "outputs": [
    {
     "data": {
      "text/plain": [
       "(0.5, 1.5)"
      ]
     },
     "execution_count": 147,
     "metadata": {},
     "output_type": "execute_result"
    },
    {
     "data": {
      "image/png": "[encoded data removed]",
      "text/plain": [
       "<Figure size 432x288 with 1 Axes>"
      ]
     },
     "metadata": {
      "needs_background": "light"
     },
     "output_type": "display_data"
    }
   ],
   "source": [
    "plt.plot(time_smooth, feedback_smooth)\n",
    "plt.plot(time_list, setpoint_list)\n",
    "plt.xlim((0, L))\n",
    "plt.ylim((min(feedback_list)-0.5, max(feedback_list)+0.5))\n",
    "plt.xlabel('time (s)')\n",
    "plt.ylabel('PID (PV)')\n",
    "plt.title('TEST PID')\n",
    "\n",
    "plt.ylim((1-0.5, 1+0.5))"
   ]
  },
  {
   "cell_type": "code",
   "execution_count": null,
   "metadata": {},
   "outputs": [],
   "source": []
  },
  {
   "cell_type": "code",
   "execution_count": null,
   "metadata": {},
   "outputs": [],
   "source": []
  }
 ],
 "metadata": {
  "kernelspec": {
   "display_name": "Python 3",
   "language": "python",
   "name": "python3"
  },
  "language_info": {
   "codemirror_mode": {
    "name": "ipython",
    "version": 3
   },
   "file_extension": ".py",
   "mimetype": "text/x-python",
   "name": "python",
   "nbconvert_exporter": "python",
   "pygments_lexer": "ipython3",
   "version": "3.7.6"
  }
 },
 "nbformat": 4,
 "nbformat_minor": 4
}
